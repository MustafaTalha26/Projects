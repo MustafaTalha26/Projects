{
 "cells": [
  {
   "cell_type": "code",
   "execution_count": 1,
   "id": "aa584a2d",
   "metadata": {
    "_cell_guid": "b1076dfc-b9ad-4769-8c92-a6c4dae69d19",
    "_uuid": "8f2839f25d086af736a60e9eeb907d3b93b6e0e5",
    "execution": {
     "iopub.execute_input": "2024-03-27T13:56:45.013464Z",
     "iopub.status.busy": "2024-03-27T13:56:45.012516Z",
     "iopub.status.idle": "2024-03-27T13:56:47.031055Z",
     "shell.execute_reply": "2024-03-27T13:56:47.029938Z"
    },
    "papermill": {
     "duration": 2.029412,
     "end_time": "2024-03-27T13:56:47.034176",
     "exception": false,
     "start_time": "2024-03-27T13:56:45.004764",
     "status": "completed"
    },
    "tags": []
   },
   "outputs": [],
   "source": [
    "import numpy as np \n",
    "import pandas as pd\n",
    "import matplotlib.pyplot as plt\n",
    "from sklearn.linear_model import LinearRegression\n",
    "\n",
    "data = pd.read_csv('/kaggle/input/largest-companies-in-world/Largest companies in world.csv')"
   ]
  },
  {
   "cell_type": "code",
   "execution_count": 2,
   "id": "fd7676d0",
   "metadata": {
    "execution": {
     "iopub.execute_input": "2024-03-27T13:56:47.045213Z",
     "iopub.status.busy": "2024-03-27T13:56:47.044097Z",
     "iopub.status.idle": "2024-03-27T13:56:47.064093Z",
     "shell.execute_reply": "2024-03-27T13:56:47.062989Z"
    },
    "papermill": {
     "duration": 0.027633,
     "end_time": "2024-03-27T13:56:47.066330",
     "exception": false,
     "start_time": "2024-03-27T13:56:47.038697",
     "status": "completed"
    },
    "tags": []
   },
   "outputs": [
    {
     "data": {
      "text/html": [
       "<div>\n",
       "<style scoped>\n",
       "    .dataframe tbody tr th:only-of-type {\n",
       "        vertical-align: middle;\n",
       "    }\n",
       "\n",
       "    .dataframe tbody tr th {\n",
       "        vertical-align: top;\n",
       "    }\n",
       "\n",
       "    .dataframe thead th {\n",
       "        text-align: right;\n",
       "    }\n",
       "</style>\n",
       "<table border=\"1\" class=\"dataframe\">\n",
       "  <thead>\n",
       "    <tr style=\"text-align: right;\">\n",
       "      <th></th>\n",
       "      <th>rank</th>\n",
       "      <th>organizationName</th>\n",
       "      <th>country</th>\n",
       "      <th>revenue</th>\n",
       "      <th>profits</th>\n",
       "      <th>assets</th>\n",
       "      <th>marketValue</th>\n",
       "    </tr>\n",
       "  </thead>\n",
       "  <tbody>\n",
       "    <tr>\n",
       "      <th>0</th>\n",
       "      <td>1</td>\n",
       "      <td>JPMorgan Chase</td>\n",
       "      <td>United States</td>\n",
       "      <td>179.93 B</td>\n",
       "      <td>41.8 B</td>\n",
       "      <td>3,744.3 B</td>\n",
       "      <td>399.59 B</td>\n",
       "    </tr>\n",
       "    <tr>\n",
       "      <th>1</th>\n",
       "      <td>2</td>\n",
       "      <td>Saudi Arabian Oil Company (Saudi Aramco)</td>\n",
       "      <td>Saudi Arabia</td>\n",
       "      <td>589.47 B</td>\n",
       "      <td>156.36 B</td>\n",
       "      <td>660.99 B</td>\n",
       "      <td>2,055.22 B</td>\n",
       "    </tr>\n",
       "    <tr>\n",
       "      <th>2</th>\n",
       "      <td>3</td>\n",
       "      <td>ICBC</td>\n",
       "      <td>China</td>\n",
       "      <td>216.77 B</td>\n",
       "      <td>52.47 B</td>\n",
       "      <td>6,116.82 B</td>\n",
       "      <td>203.01 B</td>\n",
       "    </tr>\n",
       "    <tr>\n",
       "      <th>3</th>\n",
       "      <td>4</td>\n",
       "      <td>China Construction Bank</td>\n",
       "      <td>China</td>\n",
       "      <td>203.08 B</td>\n",
       "      <td>48.25 B</td>\n",
       "      <td>4,977.48 B</td>\n",
       "      <td>172.99 B</td>\n",
       "    </tr>\n",
       "    <tr>\n",
       "      <th>4</th>\n",
       "      <td>5</td>\n",
       "      <td>Agricultural Bank of China</td>\n",
       "      <td>China</td>\n",
       "      <td>186.14 B</td>\n",
       "      <td>37.92 B</td>\n",
       "      <td>5,356.86 B</td>\n",
       "      <td>141.82 B</td>\n",
       "    </tr>\n",
       "  </tbody>\n",
       "</table>\n",
       "</div>"
      ],
      "text/plain": [
       "  rank                          organizationName        country   revenue  \\\n",
       "0    1                            JPMorgan Chase  United States  179.93 B   \n",
       "1    2  Saudi Arabian Oil Company (Saudi Aramco)   Saudi Arabia  589.47 B   \n",
       "2    3                                      ICBC          China  216.77 B   \n",
       "3    4                   China Construction Bank          China  203.08 B   \n",
       "4    5                Agricultural Bank of China          China  186.14 B   \n",
       "\n",
       "    profits      assets marketValue  \n",
       "0    41.8 B   3,744.3 B    399.59 B  \n",
       "1  156.36 B    660.99 B  2,055.22 B  \n",
       "2   52.47 B  6,116.82 B    203.01 B  \n",
       "3   48.25 B  4,977.48 B    172.99 B  \n",
       "4   37.92 B  5,356.86 B    141.82 B  "
      ]
     },
     "execution_count": 2,
     "metadata": {},
     "output_type": "execute_result"
    }
   ],
   "source": [
    "data.head()"
   ]
  },
  {
   "cell_type": "code",
   "execution_count": 3,
   "id": "5dd3eb3c",
   "metadata": {
    "execution": {
     "iopub.execute_input": "2024-03-27T13:56:47.076838Z",
     "iopub.status.busy": "2024-03-27T13:56:47.076103Z",
     "iopub.status.idle": "2024-03-27T13:56:47.103122Z",
     "shell.execute_reply": "2024-03-27T13:56:47.102335Z"
    },
    "papermill": {
     "duration": 0.034656,
     "end_time": "2024-03-27T13:56:47.105327",
     "exception": false,
     "start_time": "2024-03-27T13:56:47.070671",
     "status": "completed"
    },
    "tags": []
   },
   "outputs": [
    {
     "name": "stdout",
     "output_type": "stream",
     "text": [
      "<class 'pandas.core.frame.DataFrame'>\n",
      "RangeIndex: 2051 entries, 0 to 2050\n",
      "Data columns (total 7 columns):\n",
      " #   Column            Non-Null Count  Dtype \n",
      "---  ------            --------------  ----- \n",
      " 0   rank              2050 non-null   object\n",
      " 1   organizationName  2050 non-null   object\n",
      " 2   country           2050 non-null   object\n",
      " 3   revenue           2049 non-null   object\n",
      " 4   profits           2049 non-null   object\n",
      " 5   assets            2049 non-null   object\n",
      " 6   marketValue       2049 non-null   object\n",
      "dtypes: object(7)\n",
      "memory usage: 112.3+ KB\n"
     ]
    }
   ],
   "source": [
    "data.info()"
   ]
  },
  {
   "cell_type": "code",
   "execution_count": 4,
   "id": "e900e9b4",
   "metadata": {
    "execution": {
     "iopub.execute_input": "2024-03-27T13:56:47.116055Z",
     "iopub.status.busy": "2024-03-27T13:56:47.115171Z",
     "iopub.status.idle": "2024-03-27T13:56:47.122603Z",
     "shell.execute_reply": "2024-03-27T13:56:47.121668Z"
    },
    "papermill": {
     "duration": 0.014958,
     "end_time": "2024-03-27T13:56:47.124744",
     "exception": false,
     "start_time": "2024-03-27T13:56:47.109786",
     "status": "completed"
    },
    "tags": []
   },
   "outputs": [
    {
     "data": {
      "text/plain": [
       "Index(['rank', 'organizationName', 'country', 'revenue', 'profits', 'assets',\n",
       "       'marketValue'],\n",
       "      dtype='object')"
      ]
     },
     "execution_count": 4,
     "metadata": {},
     "output_type": "execute_result"
    }
   ],
   "source": [
    "data.columns"
   ]
  },
  {
   "cell_type": "code",
   "execution_count": 5,
   "id": "f436f4a7",
   "metadata": {
    "execution": {
     "iopub.execute_input": "2024-03-27T13:56:47.136009Z",
     "iopub.status.busy": "2024-03-27T13:56:47.135072Z",
     "iopub.status.idle": "2024-03-27T13:56:47.141628Z",
     "shell.execute_reply": "2024-03-27T13:56:47.140904Z"
    },
    "papermill": {
     "duration": 0.014302,
     "end_time": "2024-03-27T13:56:47.143517",
     "exception": false,
     "start_time": "2024-03-27T13:56:47.129215",
     "status": "completed"
    },
    "tags": []
   },
   "outputs": [
    {
     "data": {
      "text/plain": [
       "array(['United States', 'Saudi Arabia', 'China', 'United Kingdom',\n",
       "       'Japan', 'South Korea', 'France', 'Hong Kong', 'Germany', 'Canada',\n",
       "       nan, 'Taiwan', 'India', 'Spain', 'Switzerland', 'Norway', 'Brazil',\n",
       "       'Netherlands', 'Belgium', 'Italy', 'Australia', 'Ireland',\n",
       "       'Denmark', 'Mexico', 'Singapore', 'Qatar', 'Luxembourg', 'Finland',\n",
       "       'Sweden', 'Thailand', 'Poland', 'United Arab Emirates',\n",
       "       'Indonesia', 'Colombia', 'Austria', 'Turkey', 'Czech Republic',\n",
       "       'Malaysia', 'South Africa', 'Bermuda', 'Portugal', 'Kuwait',\n",
       "       'Chile', 'Israel', 'Argentina', 'Vietnam', 'Hungary',\n",
       "       'Philippines', 'Peru', 'Uruguay', 'Greece', 'Cayman Islands',\n",
       "       'Kazakhstan', 'Morocco', 'Egypt', 'Nigeria', 'Jordan', 'Oman',\n",
       "       'Pakistan'], dtype=object)"
      ]
     },
     "execution_count": 5,
     "metadata": {},
     "output_type": "execute_result"
    }
   ],
   "source": [
    "data.country.unique()"
   ]
  },
  {
   "cell_type": "code",
   "execution_count": 6,
   "id": "b723faa3",
   "metadata": {
    "execution": {
     "iopub.execute_input": "2024-03-27T13:56:47.155079Z",
     "iopub.status.busy": "2024-03-27T13:56:47.154226Z",
     "iopub.status.idle": "2024-03-27T13:56:47.163469Z",
     "shell.execute_reply": "2024-03-27T13:56:47.162327Z"
    },
    "papermill": {
     "duration": 0.017728,
     "end_time": "2024-03-27T13:56:47.166060",
     "exception": false,
     "start_time": "2024-03-27T13:56:47.148332",
     "status": "completed"
    },
    "tags": []
   },
   "outputs": [
    {
     "data": {
      "text/plain": [
       "rank                1\n",
       "organizationName    1\n",
       "country             1\n",
       "revenue             2\n",
       "profits             2\n",
       "assets              2\n",
       "marketValue         2\n",
       "dtype: int64"
      ]
     },
     "execution_count": 6,
     "metadata": {},
     "output_type": "execute_result"
    }
   ],
   "source": [
    "data.isnull().sum()"
   ]
  },
  {
   "cell_type": "code",
   "execution_count": 7,
   "id": "0cce2438",
   "metadata": {
    "execution": {
     "iopub.execute_input": "2024-03-27T13:56:47.178646Z",
     "iopub.status.busy": "2024-03-27T13:56:47.177371Z",
     "iopub.status.idle": "2024-03-27T13:56:47.187648Z",
     "shell.execute_reply": "2024-03-27T13:56:47.186669Z"
    },
    "papermill": {
     "duration": 0.018873,
     "end_time": "2024-03-27T13:56:47.189978",
     "exception": false,
     "start_time": "2024-03-27T13:56:47.171105",
     "status": "completed"
    },
    "tags": []
   },
   "outputs": [],
   "source": [
    "data = data.dropna()"
   ]
  },
  {
   "cell_type": "code",
   "execution_count": 8,
   "id": "84737391",
   "metadata": {
    "execution": {
     "iopub.execute_input": "2024-03-27T13:56:47.202183Z",
     "iopub.status.busy": "2024-03-27T13:56:47.201127Z",
     "iopub.status.idle": "2024-03-27T13:56:47.207245Z",
     "shell.execute_reply": "2024-03-27T13:56:47.206524Z"
    },
    "papermill": {
     "duration": 0.014218,
     "end_time": "2024-03-27T13:56:47.209179",
     "exception": false,
     "start_time": "2024-03-27T13:56:47.194961",
     "status": "completed"
    },
    "tags": []
   },
   "outputs": [],
   "source": [
    "def convert(value):\n",
    "    value = value.replace(',', '')\n",
    "    value = value.replace(' ', '')\n",
    "    if 'B' in value:\n",
    "        return float(value.replace('B', '')) * 1000\n",
    "    elif 'M' in value:\n",
    "        return float(value.replace('M', ''))\n",
    "    else:\n",
    "        return int(value)"
   ]
  },
  {
   "cell_type": "code",
   "execution_count": 9,
   "id": "8330b954",
   "metadata": {
    "execution": {
     "iopub.execute_input": "2024-03-27T13:56:47.220437Z",
     "iopub.status.busy": "2024-03-27T13:56:47.219884Z",
     "iopub.status.idle": "2024-03-27T13:56:47.235204Z",
     "shell.execute_reply": "2024-03-27T13:56:47.234335Z"
    },
    "papermill": {
     "duration": 0.023621,
     "end_time": "2024-03-27T13:56:47.237551",
     "exception": false,
     "start_time": "2024-03-27T13:56:47.213930",
     "status": "completed"
    },
    "tags": []
   },
   "outputs": [],
   "source": [
    "data['revenue'] = data['revenue'].apply(convert)\n",
    "data['profits'] = data['profits'].apply(convert)\n",
    "data['assets'] = data['assets'].apply(convert)\n",
    "data['marketValue'] = data['marketValue'].apply(convert)\n",
    "data['rank'] = data['rank'].apply(convert)"
   ]
  },
  {
   "cell_type": "code",
   "execution_count": 10,
   "id": "bc8f0139",
   "metadata": {
    "execution": {
     "iopub.execute_input": "2024-03-27T13:56:47.249196Z",
     "iopub.status.busy": "2024-03-27T13:56:47.248585Z",
     "iopub.status.idle": "2024-03-27T13:56:47.259834Z",
     "shell.execute_reply": "2024-03-27T13:56:47.258490Z"
    },
    "papermill": {
     "duration": 0.01946,
     "end_time": "2024-03-27T13:56:47.261941",
     "exception": false,
     "start_time": "2024-03-27T13:56:47.242481",
     "status": "completed"
    },
    "tags": []
   },
   "outputs": [
    {
     "name": "stdout",
     "output_type": "stream",
     "text": [
      "<class 'pandas.core.frame.DataFrame'>\n",
      "Index: 2049 entries, 0 to 2050\n",
      "Data columns (total 7 columns):\n",
      " #   Column            Non-Null Count  Dtype  \n",
      "---  ------            --------------  -----  \n",
      " 0   rank              2049 non-null   int64  \n",
      " 1   organizationName  2049 non-null   object \n",
      " 2   country           2049 non-null   object \n",
      " 3   revenue           2049 non-null   float64\n",
      " 4   profits           2049 non-null   float64\n",
      " 5   assets            2049 non-null   float64\n",
      " 6   marketValue       2049 non-null   float64\n",
      "dtypes: float64(4), int64(1), object(2)\n",
      "memory usage: 128.1+ KB\n"
     ]
    }
   ],
   "source": [
    "data.info()"
   ]
  },
  {
   "cell_type": "code",
   "execution_count": 11,
   "id": "051057f8",
   "metadata": {
    "execution": {
     "iopub.execute_input": "2024-03-27T13:56:47.273399Z",
     "iopub.status.busy": "2024-03-27T13:56:47.273024Z",
     "iopub.status.idle": "2024-03-27T13:56:47.289644Z",
     "shell.execute_reply": "2024-03-27T13:56:47.288531Z"
    },
    "papermill": {
     "duration": 0.024887,
     "end_time": "2024-03-27T13:56:47.291791",
     "exception": false,
     "start_time": "2024-03-27T13:56:47.266904",
     "status": "completed"
    },
    "tags": []
   },
   "outputs": [
    {
     "data": {
      "text/html": [
       "<div>\n",
       "<style scoped>\n",
       "    .dataframe tbody tr th:only-of-type {\n",
       "        vertical-align: middle;\n",
       "    }\n",
       "\n",
       "    .dataframe tbody tr th {\n",
       "        vertical-align: top;\n",
       "    }\n",
       "\n",
       "    .dataframe thead th {\n",
       "        text-align: right;\n",
       "    }\n",
       "</style>\n",
       "<table border=\"1\" class=\"dataframe\">\n",
       "  <thead>\n",
       "    <tr style=\"text-align: right;\">\n",
       "      <th></th>\n",
       "      <th>rank</th>\n",
       "      <th>organizationName</th>\n",
       "      <th>country</th>\n",
       "      <th>revenue</th>\n",
       "      <th>profits</th>\n",
       "      <th>assets</th>\n",
       "      <th>marketValue</th>\n",
       "    </tr>\n",
       "  </thead>\n",
       "  <tbody>\n",
       "    <tr>\n",
       "      <th>0</th>\n",
       "      <td>1</td>\n",
       "      <td>JPMorgan Chase</td>\n",
       "      <td>United States</td>\n",
       "      <td>179930.0</td>\n",
       "      <td>41800.0</td>\n",
       "      <td>3744300.0</td>\n",
       "      <td>399590.0</td>\n",
       "    </tr>\n",
       "    <tr>\n",
       "      <th>1</th>\n",
       "      <td>2</td>\n",
       "      <td>Saudi Arabian Oil Company (Saudi Aramco)</td>\n",
       "      <td>Saudi Arabia</td>\n",
       "      <td>589470.0</td>\n",
       "      <td>156360.0</td>\n",
       "      <td>660990.0</td>\n",
       "      <td>2055220.0</td>\n",
       "    </tr>\n",
       "    <tr>\n",
       "      <th>2</th>\n",
       "      <td>3</td>\n",
       "      <td>ICBC</td>\n",
       "      <td>China</td>\n",
       "      <td>216770.0</td>\n",
       "      <td>52470.0</td>\n",
       "      <td>6116820.0</td>\n",
       "      <td>203010.0</td>\n",
       "    </tr>\n",
       "    <tr>\n",
       "      <th>3</th>\n",
       "      <td>4</td>\n",
       "      <td>China Construction Bank</td>\n",
       "      <td>China</td>\n",
       "      <td>203080.0</td>\n",
       "      <td>48250.0</td>\n",
       "      <td>4977480.0</td>\n",
       "      <td>172990.0</td>\n",
       "    </tr>\n",
       "    <tr>\n",
       "      <th>4</th>\n",
       "      <td>5</td>\n",
       "      <td>Agricultural Bank of China</td>\n",
       "      <td>China</td>\n",
       "      <td>186140.0</td>\n",
       "      <td>37920.0</td>\n",
       "      <td>5356860.0</td>\n",
       "      <td>141820.0</td>\n",
       "    </tr>\n",
       "  </tbody>\n",
       "</table>\n",
       "</div>"
      ],
      "text/plain": [
       "   rank                          organizationName        country   revenue  \\\n",
       "0     1                            JPMorgan Chase  United States  179930.0   \n",
       "1     2  Saudi Arabian Oil Company (Saudi Aramco)   Saudi Arabia  589470.0   \n",
       "2     3                                      ICBC          China  216770.0   \n",
       "3     4                   China Construction Bank          China  203080.0   \n",
       "4     5                Agricultural Bank of China          China  186140.0   \n",
       "\n",
       "    profits     assets  marketValue  \n",
       "0   41800.0  3744300.0     399590.0  \n",
       "1  156360.0   660990.0    2055220.0  \n",
       "2   52470.0  6116820.0     203010.0  \n",
       "3   48250.0  4977480.0     172990.0  \n",
       "4   37920.0  5356860.0     141820.0  "
      ]
     },
     "execution_count": 11,
     "metadata": {},
     "output_type": "execute_result"
    }
   ],
   "source": [
    "data.head()"
   ]
  },
  {
   "cell_type": "code",
   "execution_count": 12,
   "id": "b4766645",
   "metadata": {
    "execution": {
     "iopub.execute_input": "2024-03-27T13:56:47.304169Z",
     "iopub.status.busy": "2024-03-27T13:56:47.303501Z",
     "iopub.status.idle": "2024-03-27T13:56:47.317278Z",
     "shell.execute_reply": "2024-03-27T13:56:47.316296Z"
    },
    "papermill": {
     "duration": 0.022659,
     "end_time": "2024-03-27T13:56:47.319686",
     "exception": false,
     "start_time": "2024-03-27T13:56:47.297027",
     "status": "completed"
    },
    "tags": []
   },
   "outputs": [
    {
     "data": {
      "text/html": [
       "<div>\n",
       "<style scoped>\n",
       "    .dataframe tbody tr th:only-of-type {\n",
       "        vertical-align: middle;\n",
       "    }\n",
       "\n",
       "    .dataframe tbody tr th {\n",
       "        vertical-align: top;\n",
       "    }\n",
       "\n",
       "    .dataframe thead th {\n",
       "        text-align: right;\n",
       "    }\n",
       "</style>\n",
       "<table border=\"1\" class=\"dataframe\">\n",
       "  <thead>\n",
       "    <tr style=\"text-align: right;\">\n",
       "      <th></th>\n",
       "      <th>rank</th>\n",
       "      <th>organizationName</th>\n",
       "      <th>country</th>\n",
       "      <th>revenue</th>\n",
       "      <th>profits</th>\n",
       "      <th>assets</th>\n",
       "      <th>marketValue</th>\n",
       "    </tr>\n",
       "  </thead>\n",
       "  <tbody>\n",
       "    <tr>\n",
       "      <th>2046</th>\n",
       "      <td>1996</td>\n",
       "      <td>Alfa Laval</td>\n",
       "      <td>Sweden</td>\n",
       "      <td>5350.0</td>\n",
       "      <td>489.5</td>\n",
       "      <td>7820.0</td>\n",
       "      <td>15600.0</td>\n",
       "    </tr>\n",
       "    <tr>\n",
       "      <th>2047</th>\n",
       "      <td>1996</td>\n",
       "      <td>Gap</td>\n",
       "      <td>United States</td>\n",
       "      <td>15620.0</td>\n",
       "      <td>-202.0</td>\n",
       "      <td>11390.0</td>\n",
       "      <td>3170.0</td>\n",
       "    </tr>\n",
       "    <tr>\n",
       "      <th>2048</th>\n",
       "      <td>1996</td>\n",
       "      <td>Yes Bank</td>\n",
       "      <td>India</td>\n",
       "      <td>3340.0</td>\n",
       "      <td>91.6</td>\n",
       "      <td>43220.0</td>\n",
       "      <td>5600.0</td>\n",
       "    </tr>\n",
       "    <tr>\n",
       "      <th>2049</th>\n",
       "      <td>1999</td>\n",
       "      <td>BEKB-BCBE</td>\n",
       "      <td>Switzerland</td>\n",
       "      <td>556.0</td>\n",
       "      <td>167.1</td>\n",
       "      <td>42970.0</td>\n",
       "      <td>2490.0</td>\n",
       "    </tr>\n",
       "    <tr>\n",
       "      <th>2050</th>\n",
       "      <td>1999</td>\n",
       "      <td>Ipsen</td>\n",
       "      <td>France</td>\n",
       "      <td>3180.0</td>\n",
       "      <td>681.7</td>\n",
       "      <td>5990.0</td>\n",
       "      <td>10210.0</td>\n",
       "    </tr>\n",
       "  </tbody>\n",
       "</table>\n",
       "</div>"
      ],
      "text/plain": [
       "      rank organizationName        country  revenue  profits   assets  \\\n",
       "2046  1996       Alfa Laval         Sweden   5350.0    489.5   7820.0   \n",
       "2047  1996              Gap  United States  15620.0   -202.0  11390.0   \n",
       "2048  1996         Yes Bank          India   3340.0     91.6  43220.0   \n",
       "2049  1999        BEKB-BCBE    Switzerland    556.0    167.1  42970.0   \n",
       "2050  1999            Ipsen         France   3180.0    681.7   5990.0   \n",
       "\n",
       "      marketValue  \n",
       "2046      15600.0  \n",
       "2047       3170.0  \n",
       "2048       5600.0  \n",
       "2049       2490.0  \n",
       "2050      10210.0  "
      ]
     },
     "execution_count": 12,
     "metadata": {},
     "output_type": "execute_result"
    }
   ],
   "source": [
    "data.tail()"
   ]
  },
  {
   "cell_type": "code",
   "execution_count": 13,
   "id": "a2ac06ca",
   "metadata": {
    "execution": {
     "iopub.execute_input": "2024-03-27T13:56:47.333108Z",
     "iopub.status.busy": "2024-03-27T13:56:47.332435Z",
     "iopub.status.idle": "2024-03-27T13:56:47.367638Z",
     "shell.execute_reply": "2024-03-27T13:56:47.366050Z"
    },
    "papermill": {
     "duration": 0.045465,
     "end_time": "2024-03-27T13:56:47.370933",
     "exception": false,
     "start_time": "2024-03-27T13:56:47.325468",
     "status": "completed"
    },
    "tags": []
   },
   "outputs": [
    {
     "name": "stdout",
     "output_type": "stream",
     "text": [
      "Score: -0.00396, \t Feature: revenue\n",
      "Score: -0.00254, \t Feature: profits\n",
      "Score: -0.00024, \t Feature: assets\n",
      "Score: -0.00015, \t Feature: marketValue\n"
     ]
    }
   ],
   "source": [
    "def Sort(sub_li):\n",
    "    l = len(sub_li)\n",
    "    for i in range(0, l):\n",
    "        for j in range(0, l-i-1):\n",
    "            if (sub_li[j][1] > sub_li[j + 1][1]):\n",
    "                tempo = sub_li[j]\n",
    "                sub_li[j] = sub_li[j + 1]\n",
    "                sub_li[j + 1] = tempo\n",
    "    return sub_li\n",
    "\n",
    "X = data.drop(['rank','organizationName','country'], axis=1)\n",
    "y = data['rank']\n",
    "\n",
    "model = LinearRegression()\n",
    "\n",
    "model.fit(X, y)\n",
    "\n",
    "importance = model.coef_\n",
    "\n",
    "implist = []\n",
    "for i,v in enumerate(importance):\n",
    "    implist.append([X.columns[i],v])\n",
    "implist = Sort(implist)\n",
    "for feature in implist:\n",
    "    print('Score: %.5f, \\t Feature: %0s' % (feature[1],feature[0]))"
   ]
  },
  {
   "cell_type": "markdown",
   "id": "3b4d7d9b",
   "metadata": {
    "papermill": {
     "duration": 0.005926,
     "end_time": "2024-03-27T13:56:47.382902",
     "exception": false,
     "start_time": "2024-03-27T13:56:47.376976",
     "status": "completed"
    },
    "tags": []
   },
   "source": [
    "If we try to predict a company on the list:\n",
    "\n",
    "99 Costco Wholesale United States 234.39 B  6.05 B  66.85 B  221.32 B"
   ]
  },
  {
   "cell_type": "code",
   "execution_count": 14,
   "id": "284bc202",
   "metadata": {
    "execution": {
     "iopub.execute_input": "2024-03-27T13:56:47.398034Z",
     "iopub.status.busy": "2024-03-27T13:56:47.397078Z",
     "iopub.status.idle": "2024-03-27T13:56:47.407894Z",
     "shell.execute_reply": "2024-03-27T13:56:47.406765Z"
    },
    "papermill": {
     "duration": 0.021173,
     "end_time": "2024-03-27T13:56:47.409966",
     "exception": false,
     "start_time": "2024-03-27T13:56:47.388793",
     "status": "completed"
    },
    "tags": []
   },
   "outputs": [
    {
     "data": {
      "text/plain": [
       "array([151.22851996])"
      ]
     },
     "execution_count": 14,
     "metadata": {},
     "output_type": "execute_result"
    }
   ],
   "source": [
    "test = dict(revenue=234000, profits=6050, assets=66850, marketValue=221320)\n",
    "testdf = pd.DataFrame(test, index=[0])\n",
    "model.predict(testdf)"
   ]
  },
  {
   "cell_type": "markdown",
   "id": "5cb041b6",
   "metadata": {
    "papermill": {
     "duration": 0.005442,
     "end_time": "2024-03-27T13:56:47.421347",
     "exception": false,
     "start_time": "2024-03-27T13:56:47.415905",
     "status": "completed"
    },
    "tags": []
   },
   "source": [
    "If we try to predict a company **not** on the list: "
   ]
  },
  {
   "cell_type": "code",
   "execution_count": 15,
   "id": "494bcbf7",
   "metadata": {
    "execution": {
     "iopub.execute_input": "2024-03-27T13:56:47.434710Z",
     "iopub.status.busy": "2024-03-27T13:56:47.433809Z",
     "iopub.status.idle": "2024-03-27T13:56:47.443150Z",
     "shell.execute_reply": "2024-03-27T13:56:47.442013Z"
    },
    "papermill": {
     "duration": 0.018586,
     "end_time": "2024-03-27T13:56:47.445475",
     "exception": false,
     "start_time": "2024-03-27T13:56:47.426889",
     "status": "completed"
    },
    "tags": []
   },
   "outputs": [
    {
     "data": {
      "text/plain": [
       "array([1113.18187631])"
      ]
     },
     "execution_count": 15,
     "metadata": {},
     "output_type": "execute_result"
    }
   ],
   "source": [
    "test = dict(revenue=7000, profits=200, assets=3000, marketValue=2500)\n",
    "testdf = pd.DataFrame(test, index=[0])\n",
    "model.predict(testdf)"
   ]
  }
 ],
 "metadata": {
  "kaggle": {
   "accelerator": "none",
   "dataSources": [
    {
     "datasetId": 4674413,
     "sourceId": 7948894,
     "sourceType": "datasetVersion"
    }
   ],
   "dockerImageVersionId": 30673,
   "isGpuEnabled": false,
   "isInternetEnabled": true,
   "language": "python",
   "sourceType": "notebook"
  },
  "kernelspec": {
   "display_name": "Python 3",
   "language": "python",
   "name": "python3"
  },
  "language_info": {
   "codemirror_mode": {
    "name": "ipython",
    "version": 3
   },
   "file_extension": ".py",
   "mimetype": "text/x-python",
   "name": "python",
   "nbconvert_exporter": "python",
   "pygments_lexer": "ipython3",
   "version": "3.10.13"
  },
  "papermill": {
   "default_parameters": {},
   "duration": 5.620617,
   "end_time": "2024-03-27T13:56:47.972694",
   "environment_variables": {},
   "exception": null,
   "input_path": "__notebook__.ipynb",
   "output_path": "__notebook__.ipynb",
   "parameters": {},
   "start_time": "2024-03-27T13:56:42.352077",
   "version": "2.5.0"
  }
 },
 "nbformat": 4,
 "nbformat_minor": 5
}
